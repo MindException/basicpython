{
 "cells": [
  {
   "cell_type": "code",
   "execution_count": 30,
   "metadata": {},
   "outputs": [
    {
     "name": "stdout",
     "output_type": "stream",
     "text": [
      "Hello World!\n",
      "Hello World!문자열이 너무 길 경우에는 줄 바꿈에 이렇게 \\를 사용하여 문장을 이어 나간다\n",
      "매우 간단한게 입력이 가능 ->하하\n",
      "하하\n"
     ]
    }
   ],
   "source": [
    "#출력\n",
    "a = 'Hello'\n",
    "b = 'World'\n",
    "print(a, b, sep = ' ', end = '!\\n') #sep는 중간 구분 문자, 그리고 end는 마무리 문자이다.\n",
    "print(a + ' ' +b, end = '!')\n",
    "\n",
    "s = \"문자열이 너무 길 경우에는 줄 바꿈에 \\\n",
    "이렇게 \\\\를 사용하여 문장을 이어 나간다\" #이런게 생긴 이유는 세미콜론을 안 쓰기 때문이다.\n",
    "print(s)\n",
    "\n",
    "#입력\n",
    "c = input('매우 간단한게 입력이 가능 ->') #매개변수가 아무것도 없어도 된다.\n",
    "print(c)"
   ]
  },
  {
   "cell_type": "code",
   "execution_count": 34,
   "metadata": {
    "scrolled": false
   },
   "outputs": [
    {
     "name": "stdout",
     "output_type": "stream",
     "text": [
      "<class 'int'> <class 'str'>\n",
      "<class 'str'>\n",
      "<class 'str'>\n"
     ]
    }
   ],
   "source": [
    "#타입\n",
    "#파이썬은 자료형을 알아서 지정하여 준다.\n",
    "a = 1234\n",
    "b = 'haha'\n",
    "c = \"l\"\n",
    "print(type(a),type(b))\n",
    "print(type(c))   #파이썬은 문자라는 개념이 존재하지 않는다. 따라서 모든 것이 str로 처리 된다.\n",
    "\n",
    "#형변환\n",
    "#java 같은 경우에는 (int) 이런 식으로 하였지만 파이썬은 int(변수명)으로 한다.\n",
    "d = chr(87) #chr로 아스키 코드로 빋는 것은 가능\n",
    "print(type(d))"
   ]
  },
  {
   "cell_type": "code",
   "execution_count": 5,
   "metadata": {},
   "outputs": [
    {
     "name": "stdout",
     "output_type": "stream",
     "text": [
      "01234\n",
      "01234"
     ]
    }
   ],
   "source": [
    "#범위 range\n",
    "#아주 중요하다. 파이썬은 새로 배운 사람이 아닌 기존 사용자가 편하게 만든거다\n",
    "#따라서 range(x,y)는 for(int = x; x < yl x++)로 이해하는게 편하다. <- 이게 c계열 하던 사람들 편하라고 하는 것\n",
    "\n",
    "for x in range(0,5):   #파이썬은 {}나 ;가 없기 때문에 :와 개행문자로 모든 것을 표현한다.\n",
    "    print(x, end = '')\n",
    "print()\n",
    "trigger = 0\n",
    "while(True):   #참은 True 거짓은 False\n",
    "    if(trigger == 5):     #else if 를 파이썬에서는 elif로 이어 나간다.\n",
    "        break\n",
    "    print(trigger, end = '')\n",
    "    trigger += 1      #파이썬에는 증감연산자가 없다.\n",
    "    \n",
    "# 매개변수1 몇번반복\n",
    "# 매개변수2 기존 하던거\n",
    "# 매개변수3 증감연산자를 건들 수 있다.\n",
    "    \n",
    "#논리연산자\n",
    "# OR(||) 는 or \n",
    "# AND(&&)는 and\n",
    "# NOT(!)는 not     으로 표현한다."
   ]
  },
  {
   "cell_type": "code",
   "execution_count": 9,
   "metadata": {},
   "outputs": [
    {
     "name": "stdout",
     "output_type": "stream",
     "text": [
      "매개변수 조차도 뭐가 들어올지 안 정해도 된다.\n",
      "리턴값을 안정해도 된다. 알아서 해준다.\n",
      "MindException\n",
      "MindException\n",
      "MindException\n",
      "MindException\n"
     ]
    }
   ],
   "source": [
    "#함수\n",
    "def example1(value1,value2):\n",
    "    print(\"매개변수 조차도 뭐가 들어올지 안 정해도 된다.\")\n",
    "example(10, 20)\n",
    "\n",
    "#리턴값\n",
    "def example2():\n",
    "    text = '리턴값을 안정해도 된다. 알아서 해준다.'\n",
    "    return text\n",
    "print(example2())\n",
    "\n",
    "#가변 매개변수\n",
    "#우리가 생각을 해보면 print는 많은 매개변수가 들어와도 모두\n",
    "\n",
    "def example3(n, *values):    #values에 들어오는 매개변수는 전부 배열처리 한다.\n",
    "    \n",
    "    for i in range(n):\n",
    "        for value in values:\n",
    "            print(value, end='')\n",
    "        print()\n",
    "example3(2, 'M','i','n','d','E','x','c','e','p','t','i','o','n')\n",
    "\n",
    "#키워드 매개변수\n",
    "#가변 매개변수 뒤에 붙은 명칭 있는 변수를 키워드 변수라고 생각한다.\n",
    "#대표적인 예로 print의 sep과 end이다.\n",
    "\n",
    "def example4(*values, n = 1):   #n의 기본값은 1이 되어진다.\n",
    "    \n",
    "    for i in range(n):\n",
    "        for value in values:\n",
    "            print(value, end='')\n",
    "        print()\n",
    "example4('M','i','n','d','E','x','c','e','p','t','i','o','n', n = 2)\n"
   ]
  },
  {
   "cell_type": "code",
   "execution_count": null,
   "metadata": {},
   "outputs": [],
   "source": []
  }
 ],
 "metadata": {
  "kernelspec": {
   "display_name": "Python 3",
   "language": "python",
   "name": "python3"
  },
  "language_info": {
   "codemirror_mode": {
    "name": "ipython",
    "version": 3
   },
   "file_extension": ".py",
   "mimetype": "text/x-python",
   "name": "python",
   "nbconvert_exporter": "python",
   "pygments_lexer": "ipython3",
   "version": "3.8.5"
  }
 },
 "nbformat": 4,
 "nbformat_minor": 5
}
