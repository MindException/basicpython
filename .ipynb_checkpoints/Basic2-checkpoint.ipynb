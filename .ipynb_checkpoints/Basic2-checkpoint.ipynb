{
 "cells": [
  {
   "cell_type": "code",
   "execution_count": 11,
   "metadata": {},
   "outputs": [
    {
     "name": "stdout",
     "output_type": "stream",
     "text": [
      "가나다홍길동\n",
      "3\n",
      "[0, 1, 2, 3, 4, 5]\n",
      "[0, 1, 2, 0, 1, 2]\n"
     ]
    }
   ],
   "source": [
    "#기본적인 배열\n",
    "#배열 구조가 자바랑 똑같다. 일단 스택에서 힙에 있는 포인터배열를 가르키고(이것 덕분에 다양한 자료형이 가능하다.)\n",
    "#포인터배열이 실제 메모리를 가르킨다.\n",
    "\n",
    "list = [0,1,2,3,'가','나','다','홍길동']\n",
    "for x in range(4,8):\n",
    "    print(list[x], end = '')\n",
    "print()\n",
    "#문자열 길이\n",
    "print(len(list[7]))\n",
    "    \n",
    "#배열 연산자\n",
    "list2 = [0,1,2]\n",
    "list3 = [3,4,5]\n",
    "print(list2+list3)\n",
    "print(list2*2)"
   ]
  },
  {
   "cell_type": "code",
   "execution_count": 5,
   "metadata": {},
   "outputs": [
    {
     "name": "stdout",
     "output_type": "stream",
     "text": [
      "True\n",
      "False\n",
      "True\n"
     ]
    }
   ],
   "source": [
    "#in/not in\n",
    "#배열에서 요소가 있는지 확인용\n",
    "\n",
    "name = '홍길동'\n",
    "\n",
    "list = [0,1,2,3,'홍길동']\n",
    "print(name in list)\n",
    "\n",
    "#객체 비교는 is\n",
    "\n",
    "if name is list[4]:\n",
    "    print(True)\n",
    "else:\n",
    "    print(False)\n",
    "\n",
    "#값 비교는 동일하게 == 이다\n",
    "if name == list[4]:\n",
    "    print(True)\n",
    "else:\n",
    "    print(False)"
   ]
  },
  {
   "cell_type": "code",
   "execution_count": 23,
   "metadata": {},
   "outputs": [
    {
     "name": "stdout",
     "output_type": "stream",
     "text": [
      "[0, 1, 2, 4]\n",
      "[0, 1, 2, 3, 4]\n",
      "[0, 1, 2, 3]\n",
      "모두제거\n",
      "[0, 1, 1, 1]\n",
      "[0, 1, 1]\n",
      "스택\n",
      "[0, 1, 2, 3, 4, 5]\n",
      "[0, 1, 2, 3, 4]\n"
     ]
    }
   ],
   "source": [
    "#배열 요소 추가 및 삭제\n",
    "\n",
    "list = [0,1,2,4]\n",
    "print(list)\n",
    "\n",
    "#추가(위치,요소)\n",
    "list.insert(3,3)\n",
    "print(list)\n",
    "\n",
    "#제거\n",
    "del list[4]\n",
    "print(list)\n",
    "\n",
    "#모두제거\n",
    "list.clear\n",
    "print('모두제거')\n",
    "\n",
    "#일치하는 값을 제거하기\n",
    "#중복이 발생할 경우 맨 처음 만난 값부터 삭제한다.\n",
    "list = [0,1,1,1]\n",
    "print(list)\n",
    "list.remove(1)\n",
    "print(list)\n",
    "\n",
    "print('스택')\n",
    "#스택\n",
    "#파이썬은 따로 스택에 대한 컬렉션이 존재하지 않는다. 대신에 스택처럼 사용하는 기본 메서드를 제공한다.\n",
    "#스택의 쓰임 요약: 스택은 \"redo\" 이다\n",
    "\n",
    "stack = [0,1,2,3,4,]\n",
    "\n",
    "#INSERT\n",
    "stack.append(5)\n",
    "print(stack)\n",
    "#POP\n",
    "stack.pop()      #pop도 인덱스가 가능하기는 하다.\n",
    "print(stack)"
   ]
  },
  {
   "cell_type": "code",
   "execution_count": null,
   "metadata": {},
   "outputs": [],
   "source": [
    "#큐"
   ]
  },
  {
   "cell_type": "code",
   "execution_count": 2,
   "metadata": {},
   "outputs": [
    {
     "name": "stdout",
     "output_type": "stream",
     "text": [
      "구구단을 하자~ 4 * 6 = 24\n"
     ]
    }
   ],
   "source": [
    "#format\n",
    "#문자열을 C#처럼 사용하는 용도이다.\n",
    "\n",
    "a = 4\n",
    "b = 6\n",
    "print('구구단을 하자~ {0} * {1} = {2}'.format(a,b,a*b))"
   ]
  },
  {
   "cell_type": "code",
   "execution_count": null,
   "metadata": {},
   "outputs": [],
   "source": [
    "#기본적인 딕셔너리(해시 테이블)"
   ]
  }
 ],
 "metadata": {
  "kernelspec": {
   "display_name": "Python 3",
   "language": "python",
   "name": "python3"
  },
  "language_info": {
   "codemirror_mode": {
    "name": "ipython",
    "version": 3
   },
   "file_extension": ".py",
   "mimetype": "text/x-python",
   "name": "python",
   "nbconvert_exporter": "python",
   "pygments_lexer": "ipython3",
   "version": "3.8.5"
  }
 },
 "nbformat": 4,
 "nbformat_minor": 4
}
