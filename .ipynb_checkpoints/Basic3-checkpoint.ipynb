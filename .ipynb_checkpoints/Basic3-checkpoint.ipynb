{
 "cells": [
  {
   "cell_type": "code",
   "execution_count": 3,
   "metadata": {
    "scrolled": false
   },
   "outputs": [
    {
     "name": "stdout",
     "output_type": "stream",
     "text": [
      "Hi\n",
      "__main__\n"
     ]
    }
   ],
   "source": [
    "#모듈\n",
    "import HiBye\n",
    "\n",
    "HiBye.printHi()\n",
    "#파이썬은 모듈을 만드는 것이 매우 간단하다. import로 그냥 외부 것을 읽어버리면 그것이 모듈이 되어진다.\n",
    "\n",
    "print(__name__)  #모듈의 이름이 궁금할 경우 이렇게 입력하면 나온다."
   ]
  },
  {
   "cell_type": "code",
   "execution_count": 6,
   "metadata": {},
   "outputs": [
    {
     "name": "stdout",
     "output_type": "stream",
     "text": [
      "Hi\n"
     ]
    }
   ],
   "source": [
    "#From\n",
    "from HiBye import printHi      #from을 사용하고 import를 사용하면 자기가 사용하고 싶은 함수,클래스,파일 등만 간추려서 사용가능\n",
    "\n",
    "printHi()\n",
    "#더 정확하게는 from은 패키지이다.\n",
    "#파이썬 "
   ]
  },
  {
   "cell_type": "code",
   "execution_count": 6,
   "metadata": {},
   "outputs": [
    {
     "name": "stdout",
     "output_type": "stream",
     "text": [
      "이건 다른 파일임\n",
      "HiBye2\n",
      "basicpython\n"
     ]
    }
   ],
   "source": [
    "#경로 저장\n",
    "from sys import path\n",
    "\n",
    "path.append(\"C:\\\\Users\\\\toure\\\\PythonWorkSpace\") #다른 경로를 지정\n",
    "#여기에는 HiBye와 HiBye2가 저장되어 있다. \n",
    "\n",
    "import HiBye2 #파이썬은 스크립트 언어 비슷하여서 C,Java 계열처럼 위에서 다 할 필요가 없다.\n",
    "HiBye2.where()\n",
    "print(HiBye2.__name__)  #모듈 이름 출력\n",
    "\n",
    "import HiBye as hb\n",
    "\n",
    "hb.where() #파이썬은 동일한 이름의 파일이 존재하여 import하게 될 경우 무조건 main이 들어있는 디렉토리의 파일을 사용하게 되어진다.\n",
    "#내장 모듈과 이름이 곂친다면 그것 또한 디렉토리에 있는 파일을 우선적으로 가져오게 되어진다."
   ]
  },
  {
   "cell_type": "code",
   "execution_count": 9,
   "metadata": {},
   "outputs": [
    {
     "name": "stdout",
     "output_type": "stream",
     "text": [
      "홍길동 김철수\n",
      "클래스가 삭제되었습니다.\n"
     ]
    }
   ],
   "source": [
    "#클래스\n",
    "class Student:  #생성자는 __init__이며 무조건 매개변수로 자기자신은 self를 사용한다.\n",
    "    \n",
    "                                                        #파이썬은 생성자의 오버로딩이 불가능하다.\n",
    "    def __init__(self, name = '홍길동', num = '000'):     #기본 생성자로 하고 싶으면 name과 num에 값을 준다.\n",
    "        \n",
    "        #자바나 클래스는 위에 클래스 변수들을 먼저 생각하지만 \n",
    "        #파이썬은 생성자에 있는 변수를 그대로 클래스 변수로 사용한다\n",
    "        self.name = name\n",
    "        self.num = num\n",
    "        self.test = True\n",
    "        \n",
    "    def __del__(self):     #파이썬은 특이하게 소멸자가 존재한다.\n",
    "        print(\"클래스가 삭제되었습니다.\")\n",
    "\n",
    "student1 = Student()\n",
    "student2 = Student('김철수', '001')\n",
    "\n",
    "print(student1.name, end = ' ')\n",
    "print(student2.name)\n",
    "\n",
    "student1 = None          #파이썬은 null 대신에 None을 사용한다.\n",
    "\n",
    "        "
   ]
  },
  {
   "cell_type": "code",
   "execution_count": null,
   "metadata": {},
   "outputs": [],
   "source": []
  }
 ],
 "metadata": {
  "kernelspec": {
   "display_name": "Python 3",
   "language": "python",
   "name": "python3"
  },
  "language_info": {
   "codemirror_mode": {
    "name": "ipython",
    "version": 3
   },
   "file_extension": ".py",
   "mimetype": "text/x-python",
   "name": "python",
   "nbconvert_exporter": "python",
   "pygments_lexer": "ipython3",
   "version": "3.8.5"
  }
 },
 "nbformat": 4,
 "nbformat_minor": 4
}
