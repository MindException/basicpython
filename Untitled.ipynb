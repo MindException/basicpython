{
 "cells": [
  {
   "cell_type": "code",
   "execution_count": 30,
   "id": "8d7bde6e",
   "metadata": {},
   "outputs": [
    {
     "name": "stdout",
     "output_type": "stream",
     "text": [
      "Hello World!\n",
      "Hello World!문자열이 너무 길 경우에는 줄 바꿈에 이렇게 \\를 사용하여 문장을 이어 나간다\n",
      "매우 간단한게 입력이 가능 ->하하\n",
      "하하\n"
     ]
    }
   ],
   "source": [
    "#출력\n",
    "a = 'Hello'\n",
    "b = 'World'\n",
    "print(a, b, sep = ' ', end = '!\\n') #sep는 중간 구분 문자, 그리고 end는 마무리 문자이다.\n",
    "print(a + ' ' +b, end = '!')\n",
    "\n",
    "s = \"문자열이 너무 길 경우에는 줄 바꿈에 \\\n",
    "이렇게 \\\\를 사용하여 문장을 이어 나간다\" #이런게 생긴 이유는 세미콜론을 안 쓰기 때문이다.\n",
    "print(s)\n",
    "\n",
    "#입력\n",
    "c = input('매우 간단한게 입력이 가능 ->') #매개변수가 아무것도 없어도 된다.\n",
    "print(c)"
   ]
  },
  {
   "cell_type": "code",
   "execution_count": 34,
   "id": "95e0683d",
   "metadata": {
    "scrolled": false
   },
   "outputs": [
    {
     "name": "stdout",
     "output_type": "stream",
     "text": [
      "<class 'int'> <class 'str'>\n",
      "<class 'str'>\n",
      "<class 'str'>\n"
     ]
    }
   ],
   "source": [
    "#타입\n",
    "#파이썬은 자료형을 알아서 지정하여 준다.\n",
    "a = 1234\n",
    "b = 'haha'\n",
    "c = \"l\"\n",
    "print(type(a),type(b))\n",
    "print(type(c))   #파이썬은 문자라는 개념이 존재하지 않는다. 따라서 모든 것이 str로 처리 된다.\n",
    "\n",
    "#형변환\n",
    "#java 같은 경우에는 (int) 이런 식으로 하였지만 파이썬은 int(변수명)으로 한다.\n",
    "d = chr(87) #chr로 아스키 코드로 빋는 것은 가능\n",
    "print(type(d))"
   ]
  },
  {
   "cell_type": "code",
   "execution_count": null,
   "id": "9357edf8",
   "metadata": {},
   "outputs": [],
   "source": []
  }
 ],
 "metadata": {
  "kernelspec": {
   "display_name": "Python 3",
   "language": "python",
   "name": "python3"
  },
  "language_info": {
   "codemirror_mode": {
    "name": "ipython",
    "version": 3
   },
   "file_extension": ".py",
   "mimetype": "text/x-python",
   "name": "python",
   "nbconvert_exporter": "python",
   "pygments_lexer": "ipython3",
   "version": "3.8.8"
  }
 },
 "nbformat": 4,
 "nbformat_minor": 5
}
